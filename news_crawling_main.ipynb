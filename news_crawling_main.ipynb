{
 "cells": [
  {
   "cell_type": "code",
   "execution_count": 16,
   "id": "0e8aeeb9",
   "metadata": {},
   "outputs": [],
   "source": [
    "# Use Kernel \"web_scraping2\" for this notebook\n",
    "import pandas as pd\n",
    "from selenium import webdriver\n",
    "from selenium.webdriver.chrome.service import Service\n",
    "from selenium.webdriver.common.by import By\n",
    "from webdriver_manager.chrome import ChromeDriverManager\n",
    "\n",
    "from selenium.webdriver.support.ui import WebDriverWait\n",
    "from selenium.webdriver.support import expected_conditions as EC\n",
    "\n",
    "import time"
   ]
  },
  {
   "cell_type": "markdown",
   "id": "82ae565f",
   "metadata": {},
   "source": [
    "##### Initiate Driver"
   ]
  },
  {
   "cell_type": "code",
   "execution_count": null,
   "id": "039ec1a2",
   "metadata": {},
   "outputs": [],
   "source": [
    "# Create Driver\n",
    "driver = webdriver.Chrome()\n",
    "\n",
    "\n",
    "import random\n",
    "# Generate a random integer between 3 and 6 (inclusive)\n",
    "def random_number():\n",
    "    return random.randint(3, 6)\n",
    "print(random_number())"
   ]
  },
  {
   "cell_type": "code",
   "execution_count": 3,
   "id": "df547821",
   "metadata": {},
   "outputs": [],
   "source": [
    "\n",
    "# chrome_options = webdriver.ChromeOptions()\n",
    "\n",
    "# ### This blocks images and javascript requests\n",
    "# chrome_prefs = {\n",
    "#     \"profile.default_content_setting_values\": {\n",
    "#         \"images\": 2,\n",
    "#         # \"javascript\": 2,\n",
    "#     }\n",
    "# }\n",
    "# chrome_options.experimental_options[\"prefs\"] = chrome_prefs\n",
    "# ###\n",
    "\n",
    "# # Create Driver\n",
    "# driver = webdriver.Chrome(\n",
    "#     service=Service(ChromeDriverManager().install()),\n",
    "#     options=chrome_options,\n",
    "# )\n",
    "\n",
    "# # driver.quit()"
   ]
  },
  {
   "cell_type": "code",
   "execution_count": null,
   "id": "c7cdc2ac",
   "metadata": {},
   "outputs": [
    {
     "name": "stdout",
     "output_type": "stream",
     "text": [
      "6\n"
     ]
    }
   ],
   "source": []
  },
  {
   "cell_type": "markdown",
   "id": "fadda2ab",
   "metadata": {},
   "source": [
    "#### News Media"
   ]
  },
  {
   "cell_type": "markdown",
   "id": "83090988",
   "metadata": {},
   "source": [
    "##### CNN Indonesia "
   ]
  },
  {
   "cell_type": "code",
   "execution_count": 12,
   "id": "6feccc5c",
   "metadata": {},
   "outputs": [],
   "source": [
    "# CNN Indonesia News Articles Scraping\n",
    "page_url = \"https://www.cnnindonesia.com/indeks\"\n",
    "driver.get(page_url)\n",
    "time.sleep(3)\n",
    "\n",
    "news_articles_cnn = []\n",
    "link_articles_cnn = []\n",
    "count = 0\n",
    "\n",
    "while count < 3: \n",
    "    # Get all h2 elements and store their text\n",
    "    articles = driver.find_elements(By.TAG_NAME, 'h2')\n",
    "    news_articles_cnn.extend([a.text for a in articles])\n",
    "\n",
    "    \n",
    "\n",
    "    # Find anchors that contain the h2 headings (most reliable) and extract hrefs\n",
    "    link_elements = driver.find_elements(By.XPATH, '//a[.//h2 and @href]')\n",
    "    if not link_elements:\n",
    "        # Fallback: find the nearest ancestor <a> of each h2\n",
    "        link_elements = driver.find_elements(By.XPATH, '//h2/ancestor::a[1][@href]')\n",
    "\n",
    "    link_articles_cnn.extend([el.get_attribute('href') for el in link_elements if el.get_attribute('href')])\n",
    "\n",
    "    # # Deduplicate while preserving order\n",
    "    # seen = set()\n",
    "    # link_articles_cnn = [u for u in link_articles_cnn if not (u in seen or seen.add(u))]\n",
    "\n",
    "\n",
    "\n",
    "    next_button = WebDriverWait(driver, 10).until(\n",
    "        EC.element_to_be_clickable((By.XPATH, '//a[@dtr-sec=\"halaman selanjutnya\"]'))\n",
    "    )\n",
    "    driver.execute_script(\"arguments[0].scrollIntoView(true);\", next_button)\n",
    "    time.sleep(1)  # Give time for scroll animation if needed\n",
    "    next_button.click()\n",
    "    count += 1\n",
    "    time.sleep(random_number())\n"
   ]
  },
  {
   "cell_type": "code",
   "execution_count": 13,
   "id": "5626ec54",
   "metadata": {},
   "outputs": [
    {
     "data": {
      "text/plain": [
       "30"
      ]
     },
     "execution_count": 13,
     "metadata": {},
     "output_type": "execute_result"
    }
   ],
   "source": [
    "len(link_articles_cnn)"
   ]
  },
  {
   "cell_type": "code",
   "execution_count": 14,
   "id": "0aac1813",
   "metadata": {},
   "outputs": [
    {
     "data": {
      "text/plain": [
       "'https://www.cnnindonesia.com/olahraga/20251022074016-178-1287140/timnas-voli-putra-indonesia-lolos-perempat-final-ayg-2025'"
      ]
     },
     "execution_count": 14,
     "metadata": {},
     "output_type": "execute_result"
    }
   ],
   "source": [
    "link_articles_cnn[0]"
   ]
  },
  {
   "cell_type": "code",
   "execution_count": 15,
   "id": "e3e88c84",
   "metadata": {},
   "outputs": [
    {
     "data": {
      "text/plain": [
       "30"
      ]
     },
     "execution_count": 15,
     "metadata": {},
     "output_type": "execute_result"
    }
   ],
   "source": [
    "len(news_articles_cnn)"
   ]
  },
  {
   "cell_type": "code",
   "execution_count": 16,
   "id": "970a43bb",
   "metadata": {},
   "outputs": [
    {
     "data": {
      "text/plain": [
       "['Timnas Voli Putra Indonesia Lolos Perempat Final AYG 2025',\n",
       " 'Beda Cheat Day dan Cheat Meal, Mana yang Lebih Baik?',\n",
       " 'Hampir 1.000 Prajurit TNI AD Gelar Latihan Militer di Natuna Hari Ini',\n",
       " 'VIDEO: Prabowo Akui Satu Tahun Pemerintahannya Berjalan Baik',\n",
       " 'FOTO: Arsenal Hancurkan Atletico Madrid di Liga Champions']"
      ]
     },
     "execution_count": 16,
     "metadata": {},
     "output_type": "execute_result"
    }
   ],
   "source": [
    "news_articles_cnn[0:5]"
   ]
  },
  {
   "cell_type": "markdown",
   "id": "1573c02f",
   "metadata": {},
   "source": [
    "##### CNBC Indonesia"
   ]
  },
  {
   "cell_type": "code",
   "execution_count": 17,
   "id": "a12ed2a6",
   "metadata": {},
   "outputs": [],
   "source": [
    "page_url = \"https://www.cnbcindonesia.com/indeks\"\n",
    "driver.get(page_url)\n",
    "time.sleep(3)\n",
    "\n",
    "news_articles_cnbc = []\n",
    "link_articles_cnbc = []\n",
    "count = 0\n",
    "\n",
    "while count < 3:\n",
    "    # Get all h2 elements and store their text\n",
    "    articles = driver.find_elements(By.TAG_NAME, 'h2')\n",
    "    news_articles_cnbc.extend([a.text for a in articles])\n",
    "\n",
    "\n",
    "    # Find anchors that contain the h2 headings (most reliable) and extract hrefs\n",
    "    link_elements = driver.find_elements(By.XPATH, '//a[.//h2 and @href]')\n",
    "    if not link_elements:\n",
    "        # Fallback: find the nearest ancestor <a> of each h2\n",
    "        link_elements = driver.find_elements(By.XPATH, '//h2/ancestor::a[1][@href]')\n",
    "\n",
    "    link_articles_cnbc.extend([el.get_attribute('href') for el in link_elements if el.get_attribute('href')])\n",
    "\n",
    "\n",
    "    next_button = WebDriverWait(driver, 10).until(\n",
    "        EC.element_to_be_clickable((By.XPATH, '//a[@dtr-sec=\"halaman selanjutnya\"]'))\n",
    "    )\n",
    "    driver.execute_script(\"arguments[0].scrollIntoView(true);\", next_button)\n",
    "    time.sleep(1)  # Give time for scroll animation if needed\n",
    "    next_button.click()\n",
    "    count += 1\n",
    "    time.sleep(random_number())\n"
   ]
  },
  {
   "cell_type": "code",
   "execution_count": 18,
   "id": "00d342e0",
   "metadata": {},
   "outputs": [
    {
     "data": {
      "text/plain": [
       "45"
      ]
     },
     "execution_count": 18,
     "metadata": {},
     "output_type": "execute_result"
    }
   ],
   "source": [
    "len(link_articles_cnbc)"
   ]
  },
  {
   "cell_type": "code",
   "execution_count": 19,
   "id": "0370ba62",
   "metadata": {},
   "outputs": [
    {
     "data": {
      "text/plain": [
       "'https://www.cnbcindonesia.com/tech/20251022074613-37-678083/hp-bakal-punah-pakar-sebut-penggantinya-mulai-bermunculan'"
      ]
     },
     "execution_count": 19,
     "metadata": {},
     "output_type": "execute_result"
    }
   ],
   "source": [
    "link_articles_cnbc[0]"
   ]
  },
  {
   "cell_type": "code",
   "execution_count": 20,
   "id": "17195f38",
   "metadata": {},
   "outputs": [
    {
     "data": {
      "text/plain": [
       "45"
      ]
     },
     "execution_count": 20,
     "metadata": {},
     "output_type": "execute_result"
    }
   ],
   "source": [
    "len(news_articles_cnbc)"
   ]
  },
  {
   "cell_type": "code",
   "execution_count": 21,
   "id": "ec798160",
   "metadata": {},
   "outputs": [
    {
     "data": {
      "text/plain": [
       "['HP Bakal Punah, Pakar Sebut Penggantinya Mulai Bermunculan',\n",
       " 'Emiten Boy Thohir (TRIM) Lepas 223,3 Juta Saham Energi Mega (ENRG)',\n",
       " 'Warner Bros Mau Dijual, Netflix-Comcast Jadi Calon Pembeli',\n",
       " 'Harga Batu Bara Belum Juga Bangkit, 3 Hari Ambruk',\n",
       " 'Terbaru! Tarif BPJS Kesehatan Kelas 1, 2, 3 Berlaku 22 Oktober 2025']"
      ]
     },
     "execution_count": 21,
     "metadata": {},
     "output_type": "execute_result"
    }
   ],
   "source": [
    "news_articles_cnbc[0:5]"
   ]
  },
  {
   "cell_type": "markdown",
   "id": "11439af0",
   "metadata": {},
   "source": [
    "##### Detik.com"
   ]
  },
  {
   "cell_type": "code",
   "execution_count": 22,
   "id": "268eabe9",
   "metadata": {},
   "outputs": [],
   "source": [
    "page_url = \"https://news.detik.com/indeks\"\n",
    "driver.get(page_url)\n",
    "time.sleep(3)\n",
    "\n",
    "news_articles_detik = []\n",
    "link_articles_detik = []\n",
    "count = 0\n",
    "\n",
    "while count < 3:\n",
    "    articles = driver.find_elements(By.TAG_NAME, 'h3')\n",
    "    news_articles_detik.extend([a.text for a in articles])\n",
    "\n",
    "\n",
    "    # # Find anchors that contain the h3 headings (most reliable) and extract hrefs\n",
    "    # link_elements = driver.find_elements(By.XPATH, '//a[.//h3 and @href]')\n",
    "    # if not link_elements:\n",
    "    #     # Fallback: find the nearest ancestor <a> of each h3\n",
    "    #     link_elements = driver.find_elements(By.XPATH, '//h3/ancestor::a[1][@href]')\n",
    "\n",
    "    # link_articles_detik.extend([el.get_attribute('href') for el in link_elements if el.get_attribute('href')])\n",
    "    \n",
    "    \n",
    "    # Alternative method to find links related to h3 elements\n",
    "    links_found = []\n",
    "    for el in articles:\n",
    "        href = None\n",
    "        for xpath in (\n",
    "            './ancestor::a[1]',\n",
    "            './parent::a',\n",
    "            './preceding-sibling::a[1]',\n",
    "            './following-sibling::a[1]',\n",
    "            './/a[@href]',\n",
    "        ):\n",
    "            try:\n",
    "                a_tag = el.find_element(By.XPATH, xpath)\n",
    "                href = a_tag.get_attribute('href')\n",
    "                if href:\n",
    "                    break\n",
    "            except Exception:\n",
    "                href = None\n",
    "\n",
    "        if href:\n",
    "            links_found.append(href)\n",
    "\n",
    "    # extend and deduplicate while preserving order\n",
    "    link_articles_detik.extend([u for u in links_found if u])\n",
    "    seen = set()\n",
    "    deduped = []\n",
    "    for u in link_articles_detik:\n",
    "        if u not in seen:\n",
    "            deduped.append(u)\n",
    "            seen.add(u)\n",
    "    link_articles_detik = deduped\n",
    "\n",
    "\n",
    "    next_button = WebDriverWait(driver, 10).until(\n",
    "        EC.element_to_be_clickable((By.XPATH, '//a[text()=\"Next\"]'))\n",
    "    )\n",
    "    driver.execute_script(\"arguments[0].scrollIntoView(true);\", next_button)\n",
    "    time.sleep(1)  # Give time for scroll animation if needed\n",
    "    # Use JS click to avoid ElementClickInterceptedException\n",
    "    driver.execute_script(\"arguments[0].click();\", next_button)\n",
    "    count += 1\n",
    "    time.sleep(random_number())\n"
   ]
  },
  {
   "cell_type": "code",
   "execution_count": 28,
   "id": "8f51fbcf",
   "metadata": {},
   "outputs": [
    {
     "data": {
      "text/plain": [
       "59"
      ]
     },
     "execution_count": 28,
     "metadata": {},
     "output_type": "execute_result"
    }
   ],
   "source": [
    "len(link_articles_detik)"
   ]
  },
  {
   "cell_type": "code",
   "execution_count": 25,
   "id": "c6af42b0",
   "metadata": {},
   "outputs": [
    {
     "data": {
      "text/plain": [
       "['https://news.detik.com/berita/d-8172261/truk-tabrak-separator-busway-di-jl-gatsu-rute-transj-koridor-9-dialihkan',\n",
       " 'https://news.detik.com/berita/d-8172259/4-fakta-tabrakan-keras-ka-harina-dengan-truk-trailer-di-semarang',\n",
       " 'https://news.detik.com/berita/d-8172246/30-ucapan-hari-santri-2025-penuh-semangat-dan-harapan',\n",
       " 'https://news.detik.com/berita/d-8172245/menanti-menteri-menteri-prabowo-tunggangi-maung',\n",
       " 'https://news.detik.com/internasional/d-8172241/trump-puji-prabowo-soal-ri-mau-kirim-pasukan-ke-gaza-pemimpin-luar-biasa']"
      ]
     },
     "execution_count": 25,
     "metadata": {},
     "output_type": "execute_result"
    }
   ],
   "source": [
    "link_articles_detik[0:5]"
   ]
  },
  {
   "cell_type": "code",
   "execution_count": 26,
   "id": "6dc4420c",
   "metadata": {},
   "outputs": [
    {
     "data": {
      "text/plain": [
       "60"
      ]
     },
     "execution_count": 26,
     "metadata": {},
     "output_type": "execute_result"
    }
   ],
   "source": [
    "len(news_articles_detik)"
   ]
  },
  {
   "cell_type": "code",
   "execution_count": 27,
   "id": "e67e731a",
   "metadata": {},
   "outputs": [
    {
     "data": {
      "text/plain": [
       "['Truk Tabrak Separator Busway di Jl Gatsu, Rute TransJ Koridor 9 Dialihkan',\n",
       " '4 Fakta Tabrakan Keras KA Harina dengan Truk Trailer di Semarang',\n",
       " '30++ Ucapan Hari Santri 2025, Penuh Semangat dan Harapan',\n",
       " 'Menanti Menteri-menteri Prabowo Tunggangi Maung',\n",
       " 'Trump Puji Prabowo soal RI Mau Kirim Pasukan ke Gaza: Pemimpin Luar Biasa']"
      ]
     },
     "execution_count": 27,
     "metadata": {},
     "output_type": "execute_result"
    }
   ],
   "source": [
    "news_articles_detik[0:5]"
   ]
  },
  {
   "cell_type": "markdown",
   "id": "96bf5aec",
   "metadata": {},
   "source": [
    "##### Detik.com / Hoax"
   ]
  },
  {
   "cell_type": "code",
   "execution_count": 5,
   "id": "82cb9ff8",
   "metadata": {},
   "outputs": [],
   "source": [
    "page_url = \"https://www.detik.com/tag/hoax\"\n",
    "driver.get(page_url)\n",
    "time.sleep(3)\n",
    "\n",
    "news_articles_detikHoax = []\n",
    "link_articles_detikHoax = []\n",
    "count = 0\n",
    "\n",
    "while count < 3:\n",
    "    articles = driver.find_elements(By.TAG_NAME, 'h2')\n",
    "    news_articles_detikHoax.extend([a.text for a in articles])\n",
    "    \n",
    "    \n",
    "    # Find anchors that contain the h2 headings (most reliable) and extract hrefs\n",
    "    link_elements = driver.find_elements(By.XPATH, '//a[.//h2 and @href]')\n",
    "    if not link_elements:\n",
    "        # Fallback: find the nearest ancestor <a> of each h2\n",
    "        link_elements = driver.find_elements(By.XPATH, '//h2/ancestor::a[1][@href]')\n",
    "\n",
    "    link_articles_detikHoax.extend([el.get_attribute('href') for el in link_elements if el.get_attribute('href')])\n",
    "\n",
    "\n",
    "    next_button = WebDriverWait(driver, 10).until(\n",
    "        EC.element_to_be_clickable((By.XPATH, '//img[@alt=\"Kanan\"]'))\n",
    "    )\n",
    "    driver.execute_script(\"arguments[0].scrollIntoView(true);\", next_button)\n",
    "    time.sleep(1)  # Give time for scroll animation if needed\n",
    "    # Use JS click to avoid ElementClickInterceptedException\n",
    "    driver.execute_script(\"arguments[0].click();\", next_button)\n",
    "    count += 1\n",
    "    time.sleep(random_number())"
   ]
  },
  {
   "cell_type": "code",
   "execution_count": 6,
   "id": "939c2295",
   "metadata": {},
   "outputs": [
    {
     "data": {
      "text/plain": [
       "45"
      ]
     },
     "execution_count": 6,
     "metadata": {},
     "output_type": "execute_result"
    }
   ],
   "source": [
    "len(link_articles_detikHoax)"
   ]
  },
  {
   "cell_type": "code",
   "execution_count": 7,
   "id": "d1f270e8",
   "metadata": {},
   "outputs": [
    {
     "data": {
      "text/plain": [
       "['https://www.detik.com/bali/hukum-dan-kriminal/d-8161022/heboh-isu-penculikan-anak-di-flores-polisi-pastikan-hoax',\n",
       " 'https://oto.detik.com/berita/d-8151634/hoax-pembatasan-isi-bbm-dan-larangan-buat-penunggak-pajak',\n",
       " 'https://news.detik.com/berita/d-8143948/duduk-perkara-heboh-pocong-di-bekasi-usai-warga-hilang-uang',\n",
       " 'https://health.detik.com/berita-detikhealth/d-8135471/viral-narasi-11-orang-meninggal-di-jabar-akibat-keracunan-mbg-bgn-pastikan-hoax',\n",
       " 'https://news.detik.com/berita/d-8132170/viral-kendaraan-pajak-mati-tak-boleh-isi-bbm-wakapolda-metro-hoax']"
      ]
     },
     "execution_count": 7,
     "metadata": {},
     "output_type": "execute_result"
    }
   ],
   "source": [
    "link_articles_detikHoax[0:5]"
   ]
  },
  {
   "cell_type": "code",
   "execution_count": 8,
   "id": "587d0437",
   "metadata": {},
   "outputs": [
    {
     "data": {
      "text/plain": [
       "45"
      ]
     },
     "execution_count": 8,
     "metadata": {},
     "output_type": "execute_result"
    }
   ],
   "source": [
    "len(news_articles_detikHoax)"
   ]
  },
  {
   "cell_type": "code",
   "execution_count": 10,
   "id": "40168ffe",
   "metadata": {},
   "outputs": [
    {
     "data": {
      "text/plain": [
       "['Heboh Isu Penculikan Anak di Flores, Polisi Pastikan Hoax',\n",
       " 'Hoax Pembatasan Isi BBM dan Larangan buat Penunggak Pajak',\n",
       " \"Duduk Perkara Heboh 'Pocong' di Bekasi Usai Warga Hilang Uang\",\n",
       " 'Viral Narasi 11 Orang Meninggal di Jabar Akibat Keracunan MBG, BGN Pastikan Hoax',\n",
       " 'Viral Kendaraan Pajak Mati Tak Boleh Isi BBM, Wakapolda Metro: Hoax!']"
      ]
     },
     "execution_count": 10,
     "metadata": {},
     "output_type": "execute_result"
    }
   ],
   "source": [
    "news_articles_detikHoax[0:5]"
   ]
  },
  {
   "cell_type": "markdown",
   "id": "14dee210",
   "metadata": {},
   "source": [
    "##### BBC Indonesia"
   ]
  },
  {
   "cell_type": "code",
   "execution_count": 23,
   "id": "7cb1af30",
   "metadata": {},
   "outputs": [],
   "source": [
    "page_url = \"https://www.bbc.com/indonesia\"\n",
    "driver.get(page_url)\n",
    "time.sleep(3)\n",
    "\n",
    "driver.find_element(By.XPATH, '//a[text()=\"Indonesia\"]').click()\n",
    "time.sleep(3)\n",
    "\n",
    "news_articles_bbcIndonesia = []\n",
    "link_articles_bbcIndonesia = []\n",
    "count = 0\n",
    "\n",
    "while count < 1:\n",
    "    articles = driver.find_elements(By.TAG_NAME, 'h2')\n",
    "    news_articles_bbcIndonesia.extend([a.text for a in articles])\n",
    "\n",
    "\n",
    "    # Alternative method to find links related to h2 elements\n",
    "    links_found = []\n",
    "    for el in articles:\n",
    "        href = None\n",
    "        for xpath in (\n",
    "            './ancestor::a[1]',\n",
    "            './parent::a',\n",
    "            './preceding-sibling::a[1]',\n",
    "            './following-sibling::a[1]',\n",
    "            './/a[@href]',\n",
    "        ):\n",
    "            try:\n",
    "                a_tag = el.find_element(By.XPATH, xpath)\n",
    "                href = a_tag.get_attribute('href')\n",
    "                if href:\n",
    "                    break\n",
    "            except Exception:\n",
    "                href = None\n",
    "\n",
    "        if href:\n",
    "            links_found.append(href)\n",
    "\n",
    "    # extend and deduplicate while preserving order\n",
    "    link_articles_bbcIndonesia.extend([u for u in links_found if u])\n",
    "    seen = set()\n",
    "    deduped = []\n",
    "    for u in link_articles_bbcIndonesia:\n",
    "        if u not in seen:\n",
    "            deduped.append(u)\n",
    "            seen.add(u)\n",
    "    link_articles_bbcIndonesia = deduped\n",
    "\n",
    "\n",
    "    next_button = WebDriverWait(driver, 10).until(\n",
    "        EC.element_to_be_clickable((By.XPATH, '//span[text()=\"Berikut\"]'))\n",
    "    )\n",
    "    driver.execute_script(\"arguments[0].scrollIntoView(true);\", next_button)\n",
    "    time.sleep(1)  # Give time for scroll animation if needed\n",
    "    # Use JS click to avoid ElementClickInterceptedException\n",
    "    driver.execute_script(\"arguments[0].click();\", next_button)\n",
    "    count += 1\n",
    "    time.sleep(random_number())\n"
   ]
  },
  {
   "cell_type": "code",
   "execution_count": 24,
   "id": "2c2c6e33",
   "metadata": {},
   "outputs": [
    {
     "data": {
      "text/plain": [
       "24"
      ]
     },
     "execution_count": 24,
     "metadata": {},
     "output_type": "execute_result"
    }
   ],
   "source": [
    "len(link_articles_bbcIndonesia)"
   ]
  },
  {
   "cell_type": "code",
   "execution_count": 25,
   "id": "3b77b591",
   "metadata": {},
   "outputs": [
    {
     "data": {
      "text/plain": [
       "['https://www.bbc.com/indonesia/articles/c9q1yy48ndeo',\n",
       " 'https://www.bbc.com/indonesia/articles/c0l74e4l2pwo',\n",
       " 'https://www.bbc.com/indonesia/articles/c4gzd4y9rvno',\n",
       " 'https://www.bbc.com/indonesia/articles/c20pr6gjn1go',\n",
       " 'https://www.bbc.com/indonesia/articles/c24l9eep2y5o']"
      ]
     },
     "execution_count": 25,
     "metadata": {},
     "output_type": "execute_result"
    }
   ],
   "source": [
    "link_articles_bbcIndonesia[0:5]"
   ]
  },
  {
   "cell_type": "code",
   "execution_count": 26,
   "id": "0ce9a873",
   "metadata": {},
   "outputs": [
    {
     "data": {
      "text/plain": [
       "24"
      ]
     },
     "execution_count": 26,
     "metadata": {},
     "output_type": "execute_result"
    }
   ],
   "source": [
    "len(news_articles_bbcIndonesia)"
   ]
  },
  {
   "cell_type": "code",
   "execution_count": 27,
   "id": "eb7db3ec",
   "metadata": {},
   "outputs": [
    {
     "data": {
      "text/plain": [
       "['Purbaya hendak terbitkan aturan berantas pakaian bekas impor – Kenapa produk ilegal itu sulit ditangani?',\n",
       " \"Prabowo siap kirim pasukan perdamaian ke Gaza, Netanyahu berkata 'Israel yang menentukan'\",\n",
       " 'Disekap, disetrum, dan dipukul hingga babak belur: Pengakuan WNI yang menyelamatkan diri dari perusahaan scam di Kamboja',\n",
       " 'Pasukan internasional tidak akan mau menegakkan perdamaian di Gaza, kata Raja Yordania',\n",
       " \"Kontradiksi gelar pahlawan nasional untuk Marsinah dan Soeharto – 'Ini manipulasi politik dan sejarah yang luar biasa'\"]"
      ]
     },
     "execution_count": 27,
     "metadata": {},
     "output_type": "execute_result"
    }
   ],
   "source": [
    "news_articles_bbcIndonesia[0:5]"
   ]
  },
  {
   "cell_type": "markdown",
   "id": "0c800e15",
   "metadata": {},
   "source": [
    "#### Export To CSV"
   ]
  },
  {
   "cell_type": "code",
   "execution_count": 28,
   "id": "e41b0c41",
   "metadata": {},
   "outputs": [
    {
     "name": "stdout",
     "output_type": "stream",
     "text": [
      "news_articles_cnn is not defined\n",
      "news_articles_cnbc is not defined\n",
      "news_articles_detik is not defined\n",
      "news_articles_detikHoax is not defined\n"
     ]
    }
   ],
   "source": [
    "import csv\n",
    "\n",
    "with open('news_articles.csv', 'w', newline='', encoding='utf-8') as csvfile:\n",
    "    writer = csv.writer(csvfile)\n",
    "    writer.writerow(['Title', 'Source', 'Link'])\n",
    "\n",
    "    # Write CNN Indonesia articles\n",
    "    try:\n",
    "        news_articles_cnn\n",
    "    except NameError:\n",
    "        print(\"news_articles_cnn is not defined\")\n",
    "    else:\n",
    "        for article, link in zip (news_articles_cnn, link_articles_cnn):\n",
    "            writer.writerow([article, 'CNN Indonesia', link])\n",
    "\n",
    "\n",
    "    # Write CNBC Indonesia articles\n",
    "    try:\n",
    "        news_articles_cnbc\n",
    "    except NameError:\n",
    "        print(\"news_articles_cnbc is not defined\")\n",
    "    else:\n",
    "        for article,link in zip (news_articles_cnbc, link_articles_cnbc):\n",
    "            writer.writerow([article, 'CNBC Indonesia', link])\n",
    "\n",
    "\n",
    "    # Write Detik.com articles\n",
    "    try:\n",
    "        news_articles_detik\n",
    "    except NameError:\n",
    "        print(\"news_articles_detik is not defined\")\n",
    "    else:\n",
    "        for article,link in zip (news_articles_detik,link_articles_detik):\n",
    "            writer.writerow([article, 'Detik.com', link])\n",
    "\n",
    "    \n",
    "    # Write Detik.com Hoax articles\n",
    "    try:\n",
    "        news_articles_detikHoax\n",
    "    except NameError:\n",
    "        print(\"news_articles_detikHoax is not defined\")\n",
    "    else:\n",
    "        for article,link in zip (news_articles_detikHoax,link_articles_detikHoax):\n",
    "            writer.writerow([article, 'Detik.com Hoax', link])\n",
    "            \n",
    "    \n",
    "    # Write BBC Indonesia articles\n",
    "    try:\n",
    "        news_articles_bbcIndonesia\n",
    "    except NameError:\n",
    "        print(\"news_articles_bbcIndonesia is not defined\")\n",
    "    else:\n",
    "        for article,link in zip (news_articles_bbcIndonesia, link_articles_bbcIndonesia):\n",
    "            writer.writerow([article, 'BBC Indonesia', link])"
   ]
  },
  {
   "cell_type": "markdown",
   "id": "ddfd90b3",
   "metadata": {},
   "source": [
    "#### Beautifull Soup"
   ]
  },
  {
   "cell_type": "code",
   "execution_count": null,
   "id": "0287fbd6",
   "metadata": {},
   "outputs": [],
   "source": [
    "import requests\n",
    "from bs4 import BeautifulSoup\n",
    "\n",
    "def fetch_article_content(url):\n",
    "    # Common browser User-Agent string\n",
    "    headers = {\n",
    "        'User-Agent': 'Mozilla/5.0 (Windows NT 10.0; Win64; x64) AppleWebKit/537.36 (KHTML, like Gecko) Chrome/118.0.0.0 Safari/537.36'\n",
    "    }\n",
    "    try:\n",
    "        response = requests.get(url, headers=headers)\n",
    "        response.raise_for_status()  # Raise an error for bad status codes\n",
    "        soup = BeautifulSoup(response.content, 'html.parser')\n",
    "        \n",
    "        # Attempt to extract the main content of the article\n",
    "        paragraphs = soup.find_all('p')\n",
    "        content = '\\n'.join([p.get_text() for p in paragraphs])\n",
    "        \n",
    "        return content[:500].strip()\n",
    "    except Exception as e:\n",
    "        print(f\"Error fetching {url}: {e}\")\n",
    "        return None"
   ]
  },
  {
   "cell_type": "code",
   "execution_count": 37,
   "id": "ee1c6801",
   "metadata": {},
   "outputs": [
    {
     "name": "stdout",
     "output_type": "stream",
     "text": [
      "Number of columns using len(df.columns): 24\n",
      "Fetching article content...\n",
      "Processing article 1 of 24...\n",
      "Processing article 2 of 24...\n",
      "Processing article 3 of 24...\n",
      "Processing article 4 of 24...\n",
      "Processing article 5 of 24...\n",
      "Processing article 6 of 24...\n",
      "Processing article 7 of 24...\n",
      "Processing article 8 of 24...\n",
      "Processing article 9 of 24...\n",
      "Processing article 10 of 24...\n",
      "Pausing for 7 seconds to avoid rate limiting...\n",
      "Processing article 11 of 24...\n",
      "Processing article 12 of 24...\n",
      "Processing article 13 of 24...\n",
      "Processing article 14 of 24...\n",
      "Processing article 15 of 24...\n",
      "Processing article 16 of 24...\n",
      "Processing article 17 of 24...\n",
      "Processing article 18 of 24...\n",
      "Processing article 19 of 24...\n",
      "Processing article 20 of 24...\n",
      "Pausing for 10 seconds to avoid rate limiting...\n",
      "Processing article 21 of 24...\n",
      "Processing article 22 of 24...\n",
      "Processing article 23 of 24...\n",
      "Processing article 24 of 24...\n"
     ]
    }
   ],
   "source": [
    "# CNN Check ✅\n",
    "# CNBC Check ✅\n",
    "# Detik.com Check ✅\n",
    "# BBC Indonesia Check ✅\n",
    "\n",
    "df = pd.read_csv('news_articles.csv')\n",
    "row_count = df.shape[0]\n",
    "print(f\"Number of columns using len(df.columns): {row_count}\")\n",
    "\n",
    "# Add a new column for article content\n",
    "print(\"Fetching article content...\")\n",
    "df['Content'] = None  # Initialize the Content column\n",
    "total_rows = len(df)\n",
    "\n",
    "count = 0\n",
    "for index, row in df.iterrows():\n",
    "    print(f\"Processing article {index + 1} of {total_rows}...\")\n",
    "    df.at[index, 'Content'] = fetch_article_content(row['Link'])\n",
    "    time.sleep(random.uniform(1.0, 2.5))  # Add random delay between requests\n",
    "    \n",
    "    count += 1\n",
    "    if count == 10:\n",
    "        random_delay = random.randint(5, 10)\n",
    "        print(f\"Pausing for {random_delay} seconds to avoid rate limiting...\")\n",
    "        time.sleep(random_delay)\n",
    "        count = 0\n",
    "\n",
    "df['Content'] = df['Link'].apply(fetch_article_content)\n",
    "\n",
    "\n",
    "\n",
    "# combine Title and Content into a new column, handling missing values\n",
    "df['Title_Content'] = df['Title'].fillna('').astype(str) + '\\n\\n' + df['Content'].fillna('').astype(str)\n",
    "df['Title_Content'] = df['Title_Content'].str.strip()\n",
    "# quick check\n",
    "df['Title_Content'].head()\n",
    "\n",
    "# Save the updated DataFrame back to CSV\n",
    "df.to_csv('news_articles.csv', index=False)\n",
    "\n"
   ]
  },
  {
   "cell_type": "code",
   "execution_count": 38,
   "id": "faa08c35",
   "metadata": {},
   "outputs": [
    {
     "data": {
      "text/plain": [
       "'Purbaya hendak terbitkan aturan berantas pakaian bekas impor – Kenapa produk ilegal itu sulit ditangani?\\n\\nSumber gambar, ANTARA\\nMenteri Keuangan Purbaya Yudhi Sadewa berencana menerbitkan peraturan menteri keuangan, sebagai upaya lanjutan memberantas peredaran pakaian bekas di Indonesia.\\nPurbaya belum memerinci detail aturan baru itu, tapi ia menyebut beleid itu akan memperkuat peraturan menteri perdagangan (Permendag) yang telah ada, karena akan memuat beragam sanksi seperti denda atau pencabutan izin impor.\\nPelarangan impor pakaian bekas telah termaktub dalam Peraturan Menteri Perdagangan Nomor 40 Tahun 2022.\\nPengamat menilai rencana penerbitan aturan tambahan terkait larangan impor pakaian bekas oleh Purbaya \"tidak diperlukan\".\\nEkonom Bright Institute Muhammad Andri Perdana mengatakan, masalah mendasar menjamurnya pakaian impor terletak pada penindakan hukum yang lemah, bukan pada ketiadaan aturan.\\nAkhir dari Paling banyak dibaca\\n\"Kalau Permendag efektif, sebenarnya sudah cukup untuk mengurangi pakaian bekas,\" kata Andri kepada BBC News Indonesia, Selasa (28/10).\\nSeorang pedagang pakaia'"
      ]
     },
     "execution_count": 38,
     "metadata": {},
     "output_type": "execute_result"
    }
   ],
   "source": [
    "df = pd.read_csv('news_articles.csv')\n",
    "df['Title_Content'][0]"
   ]
  },
  {
   "cell_type": "code",
   "execution_count": null,
   "id": "f6ca950e",
   "metadata": {},
   "outputs": [],
   "source": [
    "# print(fetch_article_content('https://www.bbc.com/indonesia/articles/cn7eg3rk0kjo'))"
   ]
  }
 ],
 "metadata": {
  "kernelspec": {
   "display_name": "web_scraping2",
   "language": "python",
   "name": "python3"
  },
  "language_info": {
   "codemirror_mode": {
    "name": "ipython",
    "version": 3
   },
   "file_extension": ".py",
   "mimetype": "text/x-python",
   "name": "python",
   "nbconvert_exporter": "python",
   "pygments_lexer": "ipython3",
   "version": "3.9.19"
  }
 },
 "nbformat": 4,
 "nbformat_minor": 5
}
