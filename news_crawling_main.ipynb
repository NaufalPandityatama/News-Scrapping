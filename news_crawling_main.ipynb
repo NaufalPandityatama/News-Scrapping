{
 "cells": [
  {
   "cell_type": "code",
   "execution_count": 15,
   "id": "0e8aeeb9",
   "metadata": {},
   "outputs": [],
   "source": [
    "# Use Kernel \"web_scraping2\" for this notebook\n",
    "import pandas as pd\n",
    "from selenium import webdriver\n",
    "from selenium.webdriver.chrome.service import Service\n",
    "from selenium.webdriver.common.by import By\n",
    "from webdriver_manager.chrome import ChromeDriverManager\n",
    "\n",
    "from selenium.webdriver.support.ui import WebDriverWait\n",
    "from selenium.webdriver.support import expected_conditions as EC\n",
    "\n",
    "import time"
   ]
  },
  {
   "cell_type": "markdown",
   "id": "82ae565f",
   "metadata": {},
   "source": [
    "##### Initiate Driver"
   ]
  },
  {
   "cell_type": "code",
   "execution_count": 16,
   "id": "039ec1a2",
   "metadata": {},
   "outputs": [],
   "source": [
    "# Create Driver\n",
    "driver = webdriver.Chrome()"
   ]
  },
  {
   "cell_type": "code",
   "execution_count": 17,
   "id": "df547821",
   "metadata": {},
   "outputs": [],
   "source": [
    "\n",
    "# chrome_options = webdriver.ChromeOptions()\n",
    "\n",
    "# ### This blocks images and javascript requests\n",
    "# chrome_prefs = {\n",
    "#     \"profile.default_content_setting_values\": {\n",
    "#         \"images\": 2,\n",
    "#         # \"javascript\": 2,\n",
    "#     }\n",
    "# }\n",
    "# chrome_options.experimental_options[\"prefs\"] = chrome_prefs\n",
    "# ###\n",
    "\n",
    "# # Create Driver\n",
    "# driver = webdriver.Chrome(\n",
    "#     service=Service(ChromeDriverManager().install()),\n",
    "#     options=chrome_options,\n",
    "# )\n",
    "\n",
    "# # driver.quit()"
   ]
  },
  {
   "cell_type": "code",
   "execution_count": 18,
   "id": "c7cdc2ac",
   "metadata": {},
   "outputs": [
    {
     "name": "stdout",
     "output_type": "stream",
     "text": [
      "5\n"
     ]
    }
   ],
   "source": [
    "import random\n",
    "\n",
    "# Generate a random integer between 3 and 6 (inclusive)\n",
    "\n",
    "def random_number():\n",
    "    return random.randint(3, 6)\n",
    "print(random_number())"
   ]
  },
  {
   "cell_type": "markdown",
   "id": "83090988",
   "metadata": {},
   "source": [
    "##### CNN Indonesia "
   ]
  },
  {
   "cell_type": "code",
   "execution_count": 7,
   "id": "6feccc5c",
   "metadata": {},
   "outputs": [],
   "source": [
    "# CNN Indonesia News Articles Scraping\n",
    "page_url = \"https://www.cnnindonesia.com/indeks\"\n",
    "driver.get(page_url)\n",
    "time.sleep(3)\n",
    "\n",
    "news_articles_cnn = []\n",
    "link_articles_cnn = []\n",
    "count = 0\n",
    "\n",
    "while count < 3: \n",
    "    # Get all h2 elements and store their text\n",
    "    articles = driver.find_elements(By.TAG_NAME, 'h2')\n",
    "    news_articles_cnn.extend([a.text for a in articles])\n",
    "\n",
    "    \n",
    "\n",
    "    # Find anchors that contain the h2 headings (most reliable) and extract hrefs\n",
    "    link_elements = driver.find_elements(By.XPATH, '//a[.//h2 and @href]')\n",
    "    if not link_elements:\n",
    "        # Fallback: find the nearest ancestor <a> of each h2\n",
    "        link_elements = driver.find_elements(By.XPATH, '//h2/ancestor::a[1][@href]')\n",
    "\n",
    "    link_articles_cnn.extend([el.get_attribute('href') for el in link_elements if el.get_attribute('href')])\n",
    "\n",
    "    # # Deduplicate while preserving order\n",
    "    # seen = set()\n",
    "    # link_articles_cnn = [u for u in link_articles_cnn if not (u in seen or seen.add(u))]\n",
    "\n",
    "\n",
    "\n",
    "    next_button = WebDriverWait(driver, 10).until(\n",
    "        EC.element_to_be_clickable((By.XPATH, '//a[@dtr-sec=\"halaman selanjutnya\"]'))\n",
    "    )\n",
    "    driver.execute_script(\"arguments[0].scrollIntoView(true);\", next_button)\n",
    "    time.sleep(1)  # Give time for scroll animation if needed\n",
    "    next_button.click()\n",
    "    count += 1\n",
    "    time.sleep(random_number())\n"
   ]
  },
  {
   "cell_type": "code",
   "execution_count": 8,
   "id": "5626ec54",
   "metadata": {},
   "outputs": [
    {
     "data": {
      "text/plain": [
       "30"
      ]
     },
     "execution_count": 8,
     "metadata": {},
     "output_type": "execute_result"
    }
   ],
   "source": [
    "len(link_articles_cnn)"
   ]
  },
  {
   "cell_type": "code",
   "execution_count": 10,
   "id": "0aac1813",
   "metadata": {},
   "outputs": [
    {
     "data": {
      "text/plain": [
       "'https://www.cnnindonesia.com/internasional/20251020194230-113-1286618/tegang-canberra-tuduh-jet-china-ganggu-pesawat-mata-mata-australia'"
      ]
     },
     "execution_count": 10,
     "metadata": {},
     "output_type": "execute_result"
    }
   ],
   "source": [
    "link_articles_cnn[0]"
   ]
  },
  {
   "cell_type": "code",
   "execution_count": 9,
   "id": "e3e88c84",
   "metadata": {},
   "outputs": [
    {
     "data": {
      "text/plain": [
       "30"
      ]
     },
     "execution_count": 9,
     "metadata": {},
     "output_type": "execute_result"
    }
   ],
   "source": [
    "len(news_articles_cnn)"
   ]
  },
  {
   "cell_type": "code",
   "execution_count": 11,
   "id": "970a43bb",
   "metadata": {},
   "outputs": [
    {
     "data": {
      "text/plain": [
       "['Tegang, Canberra Tuduh Jet China Ganggu Pesawat Mata-mata Australia',\n",
       " 'Rosan Sebut Rp750 T Dividen BUMN Bakal Diinvestasikan dalam 5 Tahun',\n",
       " 'Bus Tabrak Warung di Labuanbatu Selatan Sumut, Lima Orang Terluka',\n",
       " 'FOTO: Gemas! Momen Anjing-anjing Ikut Parade Halloween',\n",
       " 'Buruh soal Luhut Minta Prabowo Tak Disetir soal UMP: Cara Kami Sah']"
      ]
     },
     "execution_count": 11,
     "metadata": {},
     "output_type": "execute_result"
    }
   ],
   "source": [
    "news_articles_cnn[0:5]"
   ]
  },
  {
   "cell_type": "markdown",
   "id": "1573c02f",
   "metadata": {},
   "source": [
    "##### CNBC Indonesia"
   ]
  },
  {
   "cell_type": "code",
   "execution_count": 19,
   "id": "a12ed2a6",
   "metadata": {},
   "outputs": [],
   "source": [
    "page_url = \"https://www.cnbcindonesia.com/indeks\"\n",
    "driver.get(page_url)\n",
    "time.sleep(3)\n",
    "\n",
    "news_articles_cnbc = []\n",
    "link_articles_cnbc = []\n",
    "count = 0\n",
    "\n",
    "while count < 3:\n",
    "    # Get all h2 elements and store their text\n",
    "    articles = driver.find_elements(By.TAG_NAME, 'h2')\n",
    "    news_articles_cnbc.extend([a.text for a in articles])\n",
    "\n",
    "\n",
    "    # Find anchors that contain the h2 headings (most reliable) and extract hrefs\n",
    "    link_elements = driver.find_elements(By.XPATH, '//a[.//h2 and @href]')\n",
    "    if not link_elements:\n",
    "        # Fallback: find the nearest ancestor <a> of each h2\n",
    "        link_elements = driver.find_elements(By.XPATH, '//h2/ancestor::a[1][@href]')\n",
    "\n",
    "    link_articles_cnbc.extend([el.get_attribute('href') for el in link_elements if el.get_attribute('href')])\n",
    "\n",
    "\n",
    "    next_button = WebDriverWait(driver, 10).until(\n",
    "        EC.element_to_be_clickable((By.XPATH, '//a[@dtr-sec=\"halaman selanjutnya\"]'))\n",
    "    )\n",
    "    driver.execute_script(\"arguments[0].scrollIntoView(true);\", next_button)\n",
    "    time.sleep(1)  # Give time for scroll animation if needed\n",
    "    next_button.click()\n",
    "    count += 1\n",
    "    time.sleep(random_number())\n"
   ]
  },
  {
   "cell_type": "code",
   "execution_count": 20,
   "id": "00d342e0",
   "metadata": {},
   "outputs": [
    {
     "data": {
      "text/plain": [
       "45"
      ]
     },
     "execution_count": 20,
     "metadata": {},
     "output_type": "execute_result"
    }
   ],
   "source": [
    "len(link_articles_cnbc)"
   ]
  },
  {
   "cell_type": "code",
   "execution_count": 21,
   "id": "0370ba62",
   "metadata": {},
   "outputs": [
    {
     "data": {
      "text/plain": [
       "'https://www.cnbcindonesia.com/news/20251020172553-8-677632/video-dari-osaka-expo-2025-indonesia-raih-investasi-usd-28-miliar'"
      ]
     },
     "execution_count": 21,
     "metadata": {},
     "output_type": "execute_result"
    }
   ],
   "source": [
    "link_articles_cnbc[0]"
   ]
  },
  {
   "cell_type": "code",
   "execution_count": 22,
   "id": "17195f38",
   "metadata": {},
   "outputs": [
    {
     "data": {
      "text/plain": [
       "45"
      ]
     },
     "execution_count": 22,
     "metadata": {},
     "output_type": "execute_result"
    }
   ],
   "source": [
    "len(news_articles_cnbc)"
   ]
  },
  {
   "cell_type": "code",
   "execution_count": 23,
   "id": "ec798160",
   "metadata": {},
   "outputs": [
    {
     "data": {
      "text/plain": [
       "['Video: Dari Osaka Expo 2025, Indonesia Raih Investasi USD 28 Miliar',\n",
       " 'Kisah Pasangan Rampok Uang Rp 1,2 Triliun, Modusnya Tak Terduga',\n",
       " 'Soal Sumur Rakyat, Bahlil: Sudah Punya Warga dari Zaman Belanda',\n",
       " 'Peringati Satu Tahun Kepemimpinan Prabowo Kementrans Gelar Open House',\n",
       " 'Video: Tambang Ilegal Bikin Rugi Rp800 T - Warga India Borong Perak']"
      ]
     },
     "execution_count": 23,
     "metadata": {},
     "output_type": "execute_result"
    }
   ],
   "source": [
    "news_articles_cnbc[0:5]"
   ]
  },
  {
   "cell_type": "markdown",
   "id": "11439af0",
   "metadata": {},
   "source": [
    "##### Detik.com"
   ]
  },
  {
   "cell_type": "code",
   "execution_count": 30,
   "id": "268eabe9",
   "metadata": {},
   "outputs": [],
   "source": [
    "page_url = \"https://news.detik.com/indeks\"\n",
    "driver.get(page_url)\n",
    "time.sleep(3)\n",
    "\n",
    "news_articles_detik = []\n",
    "link_articles_detik = []\n",
    "count = 0\n",
    "\n",
    "while count < 3:\n",
    "    articles = driver.find_elements(By.TAG_NAME, 'h3')\n",
    "    news_articles_detik.extend([a.text for a in articles])\n",
    "\n",
    "\n",
    "    # # Find anchors that contain the h3 headings (most reliable) and extract hrefs\n",
    "    # link_elements = driver.find_elements(By.XPATH, '//a[.//h3 and @href]')\n",
    "    # if not link_elements:\n",
    "    #     # Fallback: find the nearest ancestor <a> of each h3\n",
    "    #     link_elements = driver.find_elements(By.XPATH, '//h3/ancestor::a[1][@href]')\n",
    "\n",
    "    # link_articles_detik.extend([el.get_attribute('href') for el in link_elements if el.get_attribute('href')])\n",
    "    \n",
    "    \n",
    "    # Alternative method to find links related to h3 elements\n",
    "    links_found = []\n",
    "    for el in articles:\n",
    "        href = None\n",
    "        for xpath in (\n",
    "            './ancestor::a[1]',\n",
    "            './parent::a',\n",
    "            './preceding-sibling::a[1]',\n",
    "            './following-sibling::a[1]',\n",
    "            './/a[@href]',\n",
    "        ):\n",
    "            try:\n",
    "                a_tag = el.find_element(By.XPATH, xpath)\n",
    "                href = a_tag.get_attribute('href')\n",
    "                if href:\n",
    "                    break\n",
    "            except Exception:\n",
    "                href = None\n",
    "\n",
    "        if href:\n",
    "            links_found.append(href)\n",
    "\n",
    "    # extend and deduplicate while preserving order\n",
    "    link_articles_detik.extend([u for u in links_found if u])\n",
    "    seen = set()\n",
    "    deduped = []\n",
    "    for u in link_articles_detik:\n",
    "        if u not in seen:\n",
    "            deduped.append(u)\n",
    "            seen.add(u)\n",
    "    link_articles_detik = deduped\n",
    "\n",
    "\n",
    "    next_button = WebDriverWait(driver, 10).until(\n",
    "        EC.element_to_be_clickable((By.XPATH, '//a[text()=\"Next\"]'))\n",
    "    )\n",
    "    driver.execute_script(\"arguments[0].scrollIntoView(true);\", next_button)\n",
    "    time.sleep(1)  # Give time for scroll animation if needed\n",
    "    # Use JS click to avoid ElementClickInterceptedException\n",
    "    driver.execute_script(\"arguments[0].click();\", next_button)\n",
    "    count += 1\n",
    "    time.sleep(random_number())\n"
   ]
  },
  {
   "cell_type": "code",
   "execution_count": 31,
   "id": "8f51fbcf",
   "metadata": {},
   "outputs": [
    {
     "data": {
      "text/plain": [
       "60"
      ]
     },
     "execution_count": 31,
     "metadata": {},
     "output_type": "execute_result"
    }
   ],
   "source": [
    "len(link_articles_detik)"
   ]
  },
  {
   "cell_type": "code",
   "execution_count": 35,
   "id": "c6af42b0",
   "metadata": {},
   "outputs": [
    {
     "data": {
      "text/plain": [
       "['https://news.detik.com/berita/d-8170243/1-tahun-pemerintahan-prabowo-kpk-ungkit-ott-noel-dan-dorong-reformasi-sistem',\n",
       " 'https://20.detik.com/detikupdate/20251020-251020125/video-massa-aksi-bubar-lalin-jalan-merdeka-selatan-kembali-normal',\n",
       " 'https://news.detik.com/berita/d-8170232/produk-tak-sesuai-klaim-toko-roti-online-dilaporkan-ke-polda-metro-jaya',\n",
       " 'https://news.detik.com/berita/d-8170231/bamsoet-puji-1-tahun-pemerintahan-prabowo-tegas-dan-responsif',\n",
       " 'https://news.detik.com/berita/d-8170230/kemensos-gelar-pelatihan-genjot-kualitas-perawatan-lansia-disabilitas']"
      ]
     },
     "execution_count": 35,
     "metadata": {},
     "output_type": "execute_result"
    }
   ],
   "source": [
    "link_articles_detik[0:5]"
   ]
  },
  {
   "cell_type": "code",
   "execution_count": 33,
   "id": "6dc4420c",
   "metadata": {},
   "outputs": [
    {
     "data": {
      "text/plain": [
       "60"
      ]
     },
     "execution_count": 33,
     "metadata": {},
     "output_type": "execute_result"
    }
   ],
   "source": [
    "len(news_articles_detik)"
   ]
  },
  {
   "cell_type": "code",
   "execution_count": 34,
   "id": "e67e731a",
   "metadata": {},
   "outputs": [
    {
     "data": {
      "text/plain": [
       "['1 Tahun Pemerintahan Prabowo, KPK Ungkit OTT Noel dan Dorong Reformasi Sistem',\n",
       " 'Video: Massa Aksi Bubar, Lalin Jalan Merdeka Selatan Kembali Normal',\n",
       " 'Produk Tak Sesuai Klaim, Toko Roti Online Dilaporkan ke Polda Metro Jaya',\n",
       " 'Bamsoet Puji 1 Tahun Pemerintahan Prabowo: Tegas dan Responsif',\n",
       " 'Kemensos Gelar Pelatihan Genjot Kualitas Perawatan Lansia-Disabilitas']"
      ]
     },
     "execution_count": 34,
     "metadata": {},
     "output_type": "execute_result"
    }
   ],
   "source": [
    "news_articles_detik[0:5]"
   ]
  },
  {
   "cell_type": "markdown",
   "id": "14dee210",
   "metadata": {},
   "source": [
    "##### BBC Indonesia"
   ]
  },
  {
   "cell_type": "code",
   "execution_count": 38,
   "id": "7cb1af30",
   "metadata": {},
   "outputs": [],
   "source": [
    "page_url = \"https://www.bbc.com/indonesia\"\n",
    "driver.get(page_url)\n",
    "time.sleep(3)\n",
    "\n",
    "driver.find_element(By.XPATH, '//a[text()=\"Indonesia\"]').click()\n",
    "time.sleep(3)\n",
    "\n",
    "news_articles_bbcIndonesia = []\n",
    "link_articles_bbcIndonesia = []\n",
    "count = 0\n",
    "\n",
    "while count < 3:\n",
    "    articles = driver.find_elements(By.TAG_NAME, 'h2')\n",
    "    news_articles_bbcIndonesia.extend([a.text for a in articles])\n",
    "\n",
    "\n",
    "    # Alternative method to find links related to h2 elements\n",
    "    links_found = []\n",
    "    for el in articles:\n",
    "        href = None\n",
    "        for xpath in (\n",
    "            './ancestor::a[1]',\n",
    "            './parent::a',\n",
    "            './preceding-sibling::a[1]',\n",
    "            './following-sibling::a[1]',\n",
    "            './/a[@href]',\n",
    "        ):\n",
    "            try:\n",
    "                a_tag = el.find_element(By.XPATH, xpath)\n",
    "                href = a_tag.get_attribute('href')\n",
    "                if href:\n",
    "                    break\n",
    "            except Exception:\n",
    "                href = None\n",
    "\n",
    "        if href:\n",
    "            links_found.append(href)\n",
    "\n",
    "    # extend and deduplicate while preserving order\n",
    "    link_articles_bbcIndonesia.extend([u for u in links_found if u])\n",
    "    seen = set()\n",
    "    deduped = []\n",
    "    for u in link_articles_bbcIndonesia:\n",
    "        if u not in seen:\n",
    "            deduped.append(u)\n",
    "            seen.add(u)\n",
    "    link_articles_bbcIndonesia = deduped\n",
    "\n",
    "\n",
    "    next_button = WebDriverWait(driver, 10).until(\n",
    "        EC.element_to_be_clickable((By.XPATH, '//span[text()=\"Berikut\"]'))\n",
    "    )\n",
    "    driver.execute_script(\"arguments[0].scrollIntoView(true);\", next_button)\n",
    "    time.sleep(1)  # Give time for scroll animation if needed\n",
    "    # Use JS click to avoid ElementClickInterceptedException\n",
    "    driver.execute_script(\"arguments[0].click();\", next_button)\n",
    "    count += 1\n",
    "    time.sleep(random_number())\n"
   ]
  },
  {
   "cell_type": "code",
   "execution_count": 39,
   "id": "2c2c6e33",
   "metadata": {},
   "outputs": [
    {
     "data": {
      "text/plain": [
       "72"
      ]
     },
     "execution_count": 39,
     "metadata": {},
     "output_type": "execute_result"
    }
   ],
   "source": [
    "len(link_articles_bbcIndonesia)"
   ]
  },
  {
   "cell_type": "code",
   "execution_count": 40,
   "id": "3b77b591",
   "metadata": {},
   "outputs": [
    {
     "data": {
      "text/plain": [
       "['https://www.bbc.com/indonesia/articles/cj0e2ml1l6no',\n",
       " 'https://www.bbc.com/indonesia/articles/cn8x77vpx3wo',\n",
       " 'https://www.bbc.com/indonesia/articles/c620402gy84o',\n",
       " 'https://www.bbc.com/indonesia/articles/c206kry30exo',\n",
       " 'https://www.bbc.com/indonesia/articles/ce86yln4nmro']"
      ]
     },
     "execution_count": 40,
     "metadata": {},
     "output_type": "execute_result"
    }
   ],
   "source": [
    "link_articles_bbcIndonesia[0:5]"
   ]
  },
  {
   "cell_type": "code",
   "execution_count": 41,
   "id": "0ce9a873",
   "metadata": {},
   "outputs": [
    {
     "data": {
      "text/plain": [
       "72"
      ]
     },
     "execution_count": 41,
     "metadata": {},
     "output_type": "execute_result"
    }
   ],
   "source": [
    "len(news_articles_bbcIndonesia)"
   ]
  },
  {
   "cell_type": "code",
   "execution_count": 42,
   "id": "eb7db3ec",
   "metadata": {},
   "outputs": [
    {
     "data": {
      "text/plain": [
       "['Survei kinerja Prabowo – Apakah gelombang unjuk rasa diperhitungkan dan sejauh mana bias dalam klaim kepuasan publik?',\n",
       " 'Bagaimana militer, pengusaha, dan partai politik menopang kekuasaan Prabowo Subianto?',\n",
       " \"Setahun pemerintahan Prabowo – Citra 'kakek gemoy' berakhir, karakter militeristis kembali tampil\",\n",
       " 'Dilema pembangunan di Mandalika – Haruskah pariwisata Lombok meniru Bali?',\n",
       " \"Setahun pemerintahan Prabowo-Gibran – 'Arah balik demokrasi' dan apa saja tantangan yang mungkin dihadapi ke depan?\"]"
      ]
     },
     "execution_count": 42,
     "metadata": {},
     "output_type": "execute_result"
    }
   ],
   "source": [
    "news_articles_bbcIndonesia[0:5]"
   ]
  },
  {
   "cell_type": "markdown",
   "id": "0c800e15",
   "metadata": {},
   "source": [
    "##### Export To CSV"
   ]
  },
  {
   "cell_type": "code",
   "execution_count": 43,
   "id": "e41b0c41",
   "metadata": {},
   "outputs": [],
   "source": [
    "import csv\n",
    "\n",
    "with open('news_articles.csv', 'w', newline='', encoding='utf-8') as csvfile:\n",
    "    writer = csv.writer(csvfile)\n",
    "    writer.writerow(['Title', 'Source', 'Link'])\n",
    "\n",
    "    # Write CNN Indonesia articles\n",
    "    try:\n",
    "        news_articles_cnn\n",
    "    except NameError:\n",
    "        print(\"news_articles_cnn is not defined\")\n",
    "    else:\n",
    "        for article, link in zip (news_articles_cnn, link_articles_cnn):\n",
    "            writer.writerow([article, 'CNN Indonesia', link])\n",
    "\n",
    "\n",
    "    # Write CNBC Indonesia articles\n",
    "    try:\n",
    "        news_articles_cnbc\n",
    "    except NameError:\n",
    "        print(\"news_articles_cnbc is not defined\")\n",
    "    else:\n",
    "        for article,link in zip (news_articles_cnbc, link_articles_cnbc):\n",
    "            writer.writerow([article, 'CNBC Indonesia', link])\n",
    "\n",
    "\n",
    "    # Write Detik.com articles\n",
    "    try:\n",
    "        news_articles_detik\n",
    "    except NameError:\n",
    "        print(\"news_articles_detik is not defined\")\n",
    "    else:\n",
    "        for article,link in zip (news_articles_detik,link_articles_detik):\n",
    "            writer.writerow([article, 'Detik.com', link])\n",
    "    \n",
    "    # Write BBC Indonesia articles\n",
    "    try:\n",
    "        news_articles_bbcIndonesia\n",
    "    except NameError:\n",
    "        print(\"news_articles_bbcIndonesia is not defined\")\n",
    "    else:\n",
    "        for article,link in zip (news_articles_bbcIndonesia, link_articles_bbcIndonesia):\n",
    "            writer.writerow([article, 'BBC Indonesia', link])"
   ]
  },
  {
   "cell_type": "code",
   "execution_count": null,
   "id": "0287fbd6",
   "metadata": {},
   "outputs": [],
   "source": []
  }
 ],
 "metadata": {
  "kernelspec": {
   "display_name": "web_scraping2",
   "language": "python",
   "name": "python3"
  },
  "language_info": {
   "codemirror_mode": {
    "name": "ipython",
    "version": 3
   },
   "file_extension": ".py",
   "mimetype": "text/x-python",
   "name": "python",
   "nbconvert_exporter": "python",
   "pygments_lexer": "ipython3",
   "version": "3.9.19"
  }
 },
 "nbformat": 4,
 "nbformat_minor": 5
}
